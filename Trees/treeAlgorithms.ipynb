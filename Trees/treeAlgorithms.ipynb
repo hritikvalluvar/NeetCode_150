{
 "cells": [
  {
   "cell_type": "code",
   "execution_count": 64,
   "metadata": {},
   "outputs": [],
   "source": [
    "class Node:\n",
    "    def __init__(self, val):\n",
    "        self.val = val\n",
    "        self.left = None\n",
    "        self.right = None"
   ]
  },
  {
   "cell_type": "code",
   "execution_count": 65,
   "metadata": {},
   "outputs": [],
   "source": [
    "inOrder = []\n",
    "\n",
    "def inorderTraversal(root):\n",
    "    if root is None:\n",
    "        return\n",
    "    inorderTraversal(root.left)\n",
    "    print(root.val, end=' ')\n",
    "    inOrder.append(root.val)\n",
    "    inorderTraversal(root.right)"
   ]
  },
  {
   "cell_type": "code",
   "execution_count": 66,
   "metadata": {},
   "outputs": [],
   "source": [
    "preOrder = []\n",
    "\n",
    "def preorderTraversal(root):\n",
    "    if root is None:\n",
    "        return\n",
    "    print(root.val, end=' ')\n",
    "    preOrder.append(root.val)\n",
    "    preorderTraversal(root.left)\n",
    "    preorderTraversal(root.right)"
   ]
  },
  {
   "cell_type": "code",
   "execution_count": 67,
   "metadata": {},
   "outputs": [],
   "source": [
    "def postorderTraversal(root):\n",
    "    if root is None:\n",
    "        return\n",
    "    postorderTraversal(root.left)\n",
    "    postorderTraversal(root.right)\n",
    "    print(root.val, end=' ')"
   ]
  },
  {
   "cell_type": "code",
   "execution_count": 68,
   "metadata": {},
   "outputs": [],
   "source": [
    "from collections import deque\n",
    "\n",
    "def levelOrderTraversal(root):\n",
    "    if root is None:\n",
    "        return\n",
    "    queue = deque([root])\n",
    "    while queue:\n",
    "        node = queue.popleft()\n",
    "        print(node.val, end=\" \")\n",
    "\n",
    "        if node.left:\n",
    "            queue.append(node.left)\n",
    "        if node.right:\n",
    "            queue.append(node.right)"
   ]
  },
  {
   "cell_type": "markdown",
   "metadata": {},
   "source": [
    "```\n",
    "          1\n",
    "        /   \\\n",
    "      2       3\n",
    "     / \\     / \\\n",
    "    4   5   6   7\n",
    "   / \\ / \\ / \\ / \\\n",
    "  8  9 10 11 12 13 14 15\n",
    "```"
   ]
  },
  {
   "cell_type": "code",
   "execution_count": 69,
   "metadata": {},
   "outputs": [],
   "source": [
    "# Creating the binary tree\n",
    "root = Node(1)\n",
    "root.left = Node(2)\n",
    "root.right = Node(3)\n",
    "root.left.left = Node(4)\n",
    "root.left.right = Node(5)\n",
    "root.right.left = Node(6)\n",
    "root.right.right = Node(7)\n",
    "root.left.left.left = Node(8)\n",
    "root.left.left.right = Node(9)\n",
    "root.left.right.left = Node(10)\n",
    "root.left.right.right = Node(11)\n",
    "root.right.left.left = Node(12)\n",
    "root.right.left.right = Node(13)\n",
    "root.right.right.left = Node(14)\n",
    "root.right.right.right = Node(15)\n"
   ]
  },
  {
   "cell_type": "code",
   "execution_count": 70,
   "metadata": {},
   "outputs": [
    {
     "name": "stdout",
     "output_type": "stream",
     "text": [
      "inorderTraversal:\n",
      "8 4 9 2 10 5 11 1 12 6 13 3 14 7 15 \n",
      "preorderTraversal:\n",
      "1 2 4 8 9 5 10 11 3 6 12 13 7 14 15 \n",
      "postorderTraversal:\n",
      "8 9 4 10 11 5 2 12 13 6 14 15 7 3 1 \n",
      "levelOrderTraversal:\n",
      "1 2 3 4 5 6 7 8 9 10 11 12 13 14 15 "
     ]
    }
   ],
   "source": [
    "print('inorderTraversal:')\n",
    "inorderTraversal(root)\n",
    "\n",
    "print('\\npreorderTraversal:')\n",
    "preorderTraversal(root)\n",
    "\n",
    "print('\\npostorderTraversal:')\n",
    "postorderTraversal(root)\n",
    "\n",
    "print('\\nlevelOrderTraversal:')\n",
    "levelOrderTraversal(root)\n"
   ]
  }
 ],
 "metadata": {
  "kernelspec": {
   "display_name": "base",
   "language": "python",
   "name": "python3"
  },
  "language_info": {
   "codemirror_mode": {
    "name": "ipython",
    "version": 3
   },
   "file_extension": ".py",
   "mimetype": "text/x-python",
   "name": "python",
   "nbconvert_exporter": "python",
   "pygments_lexer": "ipython3",
   "version": "3.10.11"
  }
 },
 "nbformat": 4,
 "nbformat_minor": 2
}
